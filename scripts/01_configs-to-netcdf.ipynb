{
 "cells": [
  {
   "cell_type": "markdown",
   "id": "3b935659",
   "metadata": {},
   "source": [
    "# Convert configs files to netcdf\n",
    "\n",
    "Saves lots of I/O overhead."
   ]
  },
  {
   "cell_type": "code",
   "execution_count": 1,
   "id": "4b82aa33-4999-4989-a740-ec176bc0da58",
   "metadata": {},
   "outputs": [],
   "source": [
    "import os\n",
    "\n",
    "import numpy as np\n",
    "import pandas as pd\n",
    "import xarray as xr\n",
    "\n",
    "from fair import FAIR\n",
    "from fair.io import read_properties"
   ]
  },
  {
   "cell_type": "code",
   "execution_count": 2,
   "id": "2cfaf742",
   "metadata": {},
   "outputs": [],
   "source": [
    "calibration_versions = ['1.5.0']\n",
    "\n",
    "for calver in calibration_versions:\n",
    "    df_configs = pd.read_csv(f'../data/fair-parameters/fair-calibrate-{calver}/calibrated_constrained_parameters.csv', index_col=0)\n",
    "    df_defaults = pd.read_csv(f'../data/fair-parameters/fair-calibrate-{calver}/species_configs_properties.csv', index_col=0)\n",
    "\n",
    "    # I think all is required here is to create a dummy instance of fair and read all in from CSV\n",
    "    f = FAIR(ch4_method=\"Thornhill2021\")\n",
    "    f.define_time(2023, 2023, 1)\n",
    "    f.define_scenarios(['dummy'])\n",
    "    f.define_configs(df_configs.index)\n",
    "    species, properties = read_properties(f'../data/fair-parameters/fair-calibrate-{calver}/species_configs_properties.csv')\n",
    "    f.define_species(species, properties)\n",
    "    f.allocate()\n",
    "    f.fill_species_configs(f'../data/fair-parameters/fair-calibrate-{calver}/species_configs_properties.csv')\n",
    "    f.override_defaults(f'../data/fair-parameters/fair-calibrate-{calver}/calibrated_constrained_parameters.csv')\n",
    "\n",
    "    outdir = f\"../output/calibration_binaries/fair-calibrate-{calver}\"\n",
    "    os.makedirs(outdir, exist_ok = True)\n",
    "    f.climate_configs.to_netcdf(os.path.join(outdir, 'energy_balance_parameters.nc'))\n",
    "    f.species_configs.to_netcdf(os.path.join(outdir, 'species_configs.nc'))"
   ]
  },
  {
   "cell_type": "code",
   "execution_count": null,
   "id": "27334041-1db4-4884-802a-e5952fc0d942",
   "metadata": {},
   "outputs": [],
   "source": []
  }
 ],
 "metadata": {
  "kernelspec": {
   "display_name": "Python 3 (ipykernel)",
   "language": "python",
   "name": "python3"
  },
  "language_info": {
   "codemirror_mode": {
    "name": "ipython",
    "version": 3
   },
   "file_extension": ".py",
   "mimetype": "text/x-python",
   "name": "python",
   "nbconvert_exporter": "python",
   "pygments_lexer": "ipython3",
   "version": "3.11.11"
  }
 },
 "nbformat": 4,
 "nbformat_minor": 5
}
